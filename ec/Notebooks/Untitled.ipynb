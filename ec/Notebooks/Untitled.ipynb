{
 "cells": [
  {
   "cell_type": "code",
   "execution_count": 1,
   "id": "e2eda925-7ba5-4839-b8cd-6da0a099ba01",
   "metadata": {},
   "outputs": [
    {
     "name": "stdout",
     "output_type": "stream",
     "text": [
      "Requirement already satisfied: pip in d:\\xuandu\\daihoc\\django\\projectcuoiki\\ecommerce\\env\\lib\\site-packages (24.0)\n",
      "Requirement already satisfied: setuptools in d:\\xuandu\\daihoc\\django\\projectcuoiki\\ecommerce\\env\\lib\\site-packages (69.5.1)\n",
      "Requirement already satisfied: pandas in d:\\xuandu\\daihoc\\django\\projectcuoiki\\ecommerce\\env\\lib\\site-packages (2.2.2)\n",
      "Requirement already satisfied: numpy>=1.26.0 in d:\\xuandu\\daihoc\\django\\projectcuoiki\\ecommerce\\env\\lib\\site-packages (from pandas) (1.26.4)\n",
      "Requirement already satisfied: python-dateutil>=2.8.2 in d:\\xuandu\\daihoc\\django\\projectcuoiki\\ecommerce\\env\\lib\\site-packages (from pandas) (2.9.0.post0)\n",
      "Requirement already satisfied: pytz>=2020.1 in d:\\xuandu\\daihoc\\django\\projectcuoiki\\ecommerce\\env\\lib\\site-packages (from pandas) (2024.1)\n",
      "Requirement already satisfied: tzdata>=2022.7 in d:\\xuandu\\daihoc\\django\\projectcuoiki\\ecommerce\\env\\lib\\site-packages (from pandas) (2024.1)\n",
      "Requirement already satisfied: six>=1.5 in d:\\xuandu\\daihoc\\django\\projectcuoiki\\ecommerce\\env\\lib\\site-packages (from python-dateutil>=2.8.2->pandas) (1.16.0)\n",
      "Requirement already satisfied: scikit-learn in d:\\xuandu\\daihoc\\django\\projectcuoiki\\ecommerce\\env\\lib\\site-packages (1.4.2)\n",
      "Requirement already satisfied: numpy>=1.19.5 in d:\\xuandu\\daihoc\\django\\projectcuoiki\\ecommerce\\env\\lib\\site-packages (from scikit-learn) (1.26.4)\n",
      "Requirement already satisfied: scipy>=1.6.0 in d:\\xuandu\\daihoc\\django\\projectcuoiki\\ecommerce\\env\\lib\\site-packages (from scikit-learn) (1.13.0)\n",
      "Requirement already satisfied: joblib>=1.2.0 in d:\\xuandu\\daihoc\\django\\projectcuoiki\\ecommerce\\env\\lib\\site-packages (from scikit-learn) (1.4.2)\n",
      "Requirement already satisfied: threadpoolctl>=2.0.0 in d:\\xuandu\\daihoc\\django\\projectcuoiki\\ecommerce\\env\\lib\\site-packages (from scikit-learn) (3.5.0)\n"
     ]
    }
   ],
   "source": [
    "!pip install --upgrade pip setuptools\n",
    "!pip install pandas\n",
    "!pip install scikit-learn"
   ]
  },
  {
   "cell_type": "code",
   "execution_count": 2,
   "id": "d147c112-631f-404e-954b-910a16b1af05",
   "metadata": {},
   "outputs": [],
   "source": [
    "import warnings\n",
    "warnings.filterwarnings('ignore')\n",
    "# Nhập thư viện 'warnings' để quản lý các cảnh báo trong quá trình chạy mã.\n",
    "# 'warnings.filterwarnings('ignore')' được sử dụng để bỏ qua (không hiển thị) các cảnh báo.\n",
    "\n",
    "import pickle\n",
    "# Nhập thư viện 'pickle' để làm việc với các tệp nhị phân, cụ thể là để lưu trữ và tải các đối tượng Python.\n",
    "\n",
    "import pandas as pd\n",
    "# 'pandas' là thư viện mạnh mẽ để thao tác và phân tích dữ liệu dạng bảng.\n",
    "\n",
    "import numpy as np\n",
    "# 'numpy' cung cấp các hỗ trợ mạnh mẽ cho các mảng đa chiều và các hàm toán học.\n",
    "\n",
    "from sklearn.metrics.pairwise import cosine_similarity\n",
    "# Nhập hàm 'cosine_similarity' từ mô-đun 'sklearn.metrics.pairwise'.\n",
    "# 'cosine_similarity' được sử dụng để tính độ tương đồng cosine giữa các cặp vector.\n"
   ]
  },
  {
   "cell_type": "code",
   "execution_count": 3,
   "id": "977d48ce-2abb-42c3-bd6f-995246f755c3",
   "metadata": {},
   "outputs": [],
   "source": [
    "# Hàm tính toán độ tương đồng cosine giữa các hàng của ma trận đầu vào.\n",
    "def cosine_similarity_manual(matrix):\n",
    "    similarity = np.dot(matrix, matrix.T)\n",
    "    norms = np.array([np.sqrt(np.diagonal(similarity))])\n",
    "    return (similarity / (norms * norms.T))"
   ]
  },
  {
   "cell_type": "code",
   "execution_count": 4,
   "id": "8d648ea3-a4c7-465b-87a8-80858f15cea0",
   "metadata": {},
   "outputs": [],
   "source": [
    "# dự đoán xếp hạng của một mục cho một người dùng bằng cách sử dụng phương pháp k-nearest neighbors (KNN)\n",
    "def knn_predict(user_id, item_id, user_item_matrix, k=5):\n",
    "    user_index = user_item_matrix.index.get_loc(user_id)\n",
    "    item_index = user_item_matrix.columns.get_loc(item_id)\n",
    "    \n",
    "    similarity_matrix = cosine_similarity_manual(user_item_matrix.values)\n",
    "    similar_users = np.argsort(similarity_matrix[user_index])[-(k+1):-1]\n",
    "    \n",
    "    sum_similarities = np.sum(similarity_matrix[user_index][similar_users])\n",
    "    weighted_sum = 0.0\n",
    "    for neighbor in similar_users:\n",
    "        weighted_sum += similarity_matrix[user_index][neighbor] * user_item_matrix.values[neighbor, item_index]\n",
    "    \n",
    "    if sum_similarities == 0:\n",
    "        return 0\n",
    "    predicted_rating = weighted_sum / sum_similarities\n",
    "    return predicted_rating"
   ]
  },
  {
   "cell_type": "code",
   "execution_count": 14,
   "id": "37a6b579-7493-4180-b3bb-9d14078bf9ba",
   "metadata": {},
   "outputs": [],
   "source": [
    "# Hàm đề xuất top sản phẩm cho một người dùng dựa trên xếp hạng dự đoán sử dụng phương pháp KNN.\n",
    "def recommend_products(user_id, user_item_matrix, k=5, top_n=10):\n",
    "    user_index = user_item_matrix.index.get_loc(user_id)\n",
    "    user_ratings = user_item_matrix.iloc[user_index]\n",
    "    unrated_products = user_ratings[user_ratings == 0].index.tolist()\n",
    "    \n",
    "    recommendations = []\n",
    "    for item_id in unrated_products:\n",
    "        predicted_rating = knn_predict(user_id, item_id, user_item_matrix, k=k)\n",
    "        itemId = int(item_id)\n",
    "        recommendations.append((itemId, predicted_rating))\n",
    "    \n",
    "    recommendations = sorted(recommendations, key=lambda x: x[1], reverse=True)\n",
    "    return recommendations[:top_n]"
   ]
  },
  {
   "cell_type": "code",
   "execution_count": 15,
   "id": "e9e8a2dd-2eb3-45ac-81b3-587fc91d6d63",
   "metadata": {
    "scrolled": true
   },
   "outputs": [
    {
     "name": "stdout",
     "output_type": "stream",
     "text": [
      "  user product rating\n",
      "0    6       2      5\n",
      "1    6      10      3\n",
      "2   11       2      5\n",
      "3   11      10      1\n",
      "4    6       3      3\n"
     ]
    }
   ],
   "source": [
    "df = pd.read_csv('data/ratings.csv', header=None)\n",
    "df.columns = ['user', 'product', 'rating', 'timestamp']\n",
    "df.drop(['timestamp'], axis=1, inplace=True)\n",
    "\n",
    "RATINGS_CUTOFF = 2\n",
    "user_counts = df['user'].value_counts()\n",
    "df = df[df['user'].isin(user_counts[user_counts >= RATINGS_CUTOFF].index)]\n",
    "\n",
    "RATINGS_CUTOFF = 1\n",
    "item_counts = df['product'].value_counts()\n",
    "df = df[df['product'].isin(item_counts[item_counts >= RATINGS_CUTOFF].index)]\n",
    "\n",
    "df.reset_index(drop=True, inplace=True)\n",
    "print(df.head())"
   ]
  },
  {
   "cell_type": "code",
   "execution_count": 16,
   "id": "6a56e4da-1d1e-43e5-9909-88e5e950cb0e",
   "metadata": {},
   "outputs": [
    {
     "name": "stdout",
     "output_type": "stream",
     "text": [
      "product    1   10    2    3    4    5    7    8    9\n",
      "user                                                \n",
      "11       5.0  1.0  5.0  4.0  0.0  0.0  5.0  4.0  3.0\n",
      "12       0.0  0.0  0.0  0.0  0.0  4.0  5.0  0.0  0.0\n",
      "6        0.0  3.0  5.0  3.0  5.0  0.0  0.0  0.0  0.0\n"
     ]
    }
   ],
   "source": [
    "df['rating'] = df['rating'].astype(float)\n",
    "# tạo bảng pivot từ dữ liệu có sẵn trong DataFrame\n",
    "user_item_matrix = df.pivot_table(index='user', columns='product', values='rating', fill_value=0)\n",
    "user_item_matrix.fillna(0, inplace=True)\n",
    "print(user_item_matrix)"
   ]
  },
  {
   "cell_type": "code",
   "execution_count": 17,
   "id": "8a3c4622-cbe0-4cc1-bb0e-cde2bb0b2600",
   "metadata": {
    "scrolled": true
   },
   "outputs": [
    {
     "name": "stdout",
     "output_type": "stream",
     "text": [
      "Đề xuất sản phẩm cho người dùng 12\n",
      "<function recommend_products at 0x0000025A6709AFC0>\n",
      "---------------------------------------\n",
      "Sản phẩm: 1 - Điểm dự đoán: 5.0\n",
      "Sản phẩm: 2 - Điểm dự đoán: 5.0\n",
      "Sản phẩm: 3 - Điểm dự đoán: 4.0\n",
      "Sản phẩm: 8 - Điểm dự đoán: 4.0\n",
      "Sản phẩm: 9 - Điểm dự đoán: 3.0\n"
     ]
    }
   ],
   "source": [
    "# Sử dụng hàm recommend_products để đề xuất sản phẩm cho một người dùng cụ thể\n",
    "user_id = '12'\n",
    "recommendations = recommend_products(user_id, user_item_matrix, k=5, top_n=5)\n",
    "\n",
    "# In ra danh sách các sản phẩm được đề xuất cùng với điểm dự đoán\n",
    "print(\"Đề xuất sản phẩm cho người dùng\", user_id)\n",
    "print(recommend_products)\n",
    "print(\"---------------------------------------\")\n",
    "for item_id, predicted_rating in recommendations:\n",
    "    print(\"Sản phẩm:\", item_id, \"- Điểm dự đoán:\", predicted_rating)"
   ]
  },
  {
   "cell_type": "code",
   "execution_count": 9,
   "id": "2a0567f5-1c71-4abb-804b-917e2b6d1345",
   "metadata": {},
   "outputs": [],
   "source": [
    "with open('user_item_matrix.pkl', 'wb') as f:\n",
    "    pickle.dump(user_item_matrix, f)\n",
    "\n",
    "# Lưu mô hình (các hàm) vào tệp pickle\n",
    "with open('recommendation_model.pkl', 'wb') as f:\n",
    "    pickle.dump(recommend_products, f)"
   ]
  }
 ],
 "metadata": {
  "kernelspec": {
   "display_name": "Python 3 (ipykernel)",
   "language": "python",
   "name": "python3"
  },
  "language_info": {
   "codemirror_mode": {
    "name": "ipython",
    "version": 3
   },
   "file_extension": ".py",
   "mimetype": "text/x-python",
   "name": "python",
   "nbconvert_exporter": "python",
   "pygments_lexer": "ipython3",
   "version": "3.12.1"
  }
 },
 "nbformat": 4,
 "nbformat_minor": 5
}
